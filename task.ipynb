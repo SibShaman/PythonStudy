{
 "cells": [
  {
   "cell_type": "code",
   "execution_count": null,
   "metadata": {},
   "outputs": [],
   "source": []
  }
 ],
 "metadata": {
  "kernelspec": {
   "display_name": "Python 3.10.5 ('ENV': venv)",
   "language": "python",
   "name": "python3"
  },
  "language_info": {
   "name": "python",
   "version": "3.10.5"
  },
  "orig_nbformat": 4,
  "vscode": {
   "interpreter": {
    "hash": "3e20d1f067866fa5b171d709b5aefdb2f3fdcb059ad10b541a4cf3e43c6e5574"
   }
  }
 },
 "nbformat": 4,
 "nbformat_minor": 2
}
